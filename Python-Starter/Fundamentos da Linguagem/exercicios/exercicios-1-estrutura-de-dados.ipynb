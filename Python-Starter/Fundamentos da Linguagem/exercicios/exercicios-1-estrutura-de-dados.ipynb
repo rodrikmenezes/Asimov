{
 "cells": [
  {
   "cell_type": "markdown",
   "metadata": {},
   "source": [
    "<img src=\"https://asimov.academy/wp-content/uploads/2021/01/logo.png\" width=\"200\"/>\n",
    "_____________________________________________\n",
    "\n",
    "## Exercícios #1 - Estruturas de dados\n"
   ]
  },
  {
   "cell_type": "markdown",
   "metadata": {},
   "source": [
    "### Exercício 1\n",
    "Utilizando o built-in method input(), crie um programa que receba a altura e o peso de uma pessoa e imprima na tela o IMC da mesma."
   ]
  },
  {
   "cell_type": "code",
   "execution_count": 1,
   "metadata": {},
   "outputs": [
    {
     "name": "stdout",
     "output_type": "stream",
     "text": [
      "IMC = 28.4\n"
     ]
    }
   ],
   "source": [
    "h = input('Altura (m) = ')\n",
    "p = input('Peso (kg) = ')\n",
    "h, p = float(h), float(p)\n",
    "imc = round(p / h ** 2, 1)\n",
    "print('IMC = {}'.format(imc))\n"
   ]
  },
  {
   "cell_type": "markdown",
   "metadata": {},
   "source": [
    "### Exercício 2 \n",
    "Escreva um programa que pergunte o nome completo do usuário e cumprimente o mesmo pelo primeiro nome."
   ]
  },
  {
   "cell_type": "code",
   "execution_count": 13,
   "metadata": {},
   "outputs": [
    {
     "name": "stdout",
     "output_type": "stream",
     "text": [
      "Olá Rodrik, seja bem vindo Sr. Menezes\n"
     ]
    }
   ],
   "source": [
    "nome = input('Qual seu nome e sobrenome ?\\n')\n",
    "nome_split = nome.split()\n",
    "nome_prim = nome_split[0]\n",
    "nome_ultim = nome_split[len(nome_split)-1]\n",
    "print('Olá {}, seja bem vindo Sr. {}'.format(nome_prim, nome_ultim))"
   ]
  },
  {
   "cell_type": "markdown",
   "metadata": {},
   "source": [
    "### Exercício 3\n",
    "Desenho um código que extraia o domínio de um e-mail informado."
   ]
  },
  {
   "cell_type": "code",
   "execution_count": 2,
   "metadata": {},
   "outputs": [
    {
     "name": "stdout",
     "output_type": "stream",
     "text": [
      "Domínio = mass.com\n"
     ]
    }
   ],
   "source": [
    "email = input('Qual o seu email?\\n')\n",
    "email_split = email.split('@')\n",
    "dominio = email_split[-1]\n",
    "print('Domínio = {}'.format(dominio))"
   ]
  },
  {
   "cell_type": "markdown",
   "metadata": {},
   "source": [
    "### Exercício 4 \n",
    "Faça um programa para uma loja de tintas. A pessoa informa a área em m2 que deseja pintar, e o script calculará a quantidade de latas de tinta que a pessoa deve comprar e o valor. Considere que cada litro de tinta pinta 3m2, que cada lata contém 18L e que custa R$ 80."
   ]
  },
  {
   "cell_type": "code",
   "execution_count": 30,
   "metadata": {},
   "outputs": [
    {
     "name": "stdout",
     "output_type": "stream",
     "text": [
      "Vc pprecisa de 3 latas e o custo é de R$ 240.00\n"
     ]
    }
   ],
   "source": [
    "area = float(input('Área = '))\n",
    "litros = area / 3\n",
    "qtde = int(litros / 18)\n",
    "custo = round(qtde * 80, 2)\n",
    "print('Vc pprecisa de {} latas e o custo é de R$ {:.2f}'.format(qtde, custo))\n"
   ]
  },
  {
   "cell_type": "markdown",
   "metadata": {},
   "source": [
    "### Exercício 5\n",
    "Faça um Programa que pergunte quanto você ganha por hora e o número de horas trabalhadas no mês. Calcule e mostre o total do seu salário no referido mês, sabendo-se que são descontados 11% para o Imposto de Renda, 8% para o INSS e 5% para o sindicato, faça um programa que nos dê:\n",
    "1. Salário bruto.\n",
    "2. Quanto pagou ao INSS.\n",
    "3. Quanto pagou ao sindicato.\n",
    "4. O salário líquido."
   ]
  },
  {
   "cell_type": "code",
   "execution_count": 31,
   "metadata": {},
   "outputs": [
    {
     "name": "stdout",
     "output_type": "stream",
     "text": [
      "\n",
      "1. Salário bruto =  3200.0 \n",
      "2. Quanto pagou ao INSS =  227.84 \n",
      "3. Quanto pagou ao sindicato =  131.008 \n",
      "4. O salário líquido =  2489.152\n"
     ]
    }
   ],
   "source": [
    "renda = input('Quanto vc ganha por hora trabalhada?')\n",
    "horas = input('Horas trabalhadas mês')\n",
    "renda, horas = float(renda), float(horas)\n",
    "salario = renda * horas\n",
    "irpf = salario * 0.11\n",
    "inss = (salario - irpf) * 0.08\n",
    "sindicato = (salario - irpf - inss) * 0.05\n",
    "salario_liquido = salario - (irpf + inss + sindicato)\n",
    "print(\n",
    "    \n",
    "    '\\n1. Salário bruto = ', str(salario),\n",
    "    '\\n2. Quanto pagou ao INSS = ', str(inss),\n",
    "    '\\n3. Quanto pagou ao sindicato = ', str(sindicato),\n",
    "    '\\n4. O salário líquido = ', str(salario_liquido)\n",
    ")\n"
   ]
  }
 ],
 "metadata": {
  "kernelspec": {
   "display_name": "Python 3",
   "language": "python",
   "name": "python3"
  },
  "language_info": {
   "codemirror_mode": {
    "name": "ipython",
    "version": 3
   },
   "file_extension": ".py",
   "mimetype": "text/x-python",
   "name": "python",
   "nbconvert_exporter": "python",
   "pygments_lexer": "ipython3",
   "version": "3.12.4"
  }
 },
 "nbformat": 4,
 "nbformat_minor": 4
}
